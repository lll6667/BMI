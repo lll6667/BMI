{
  "nbformat": 4,
  "nbformat_minor": 0,
  "metadata": {
    "colab": {
      "name": "StatsEssay.ipynb",
      "provenance": [],
      "collapsed_sections": []
    },
    "kernelspec": {
      "name": "python3",
      "display_name": "Python 3"
    },
    "language_info": {
      "name": "python"
    }
  },
  "cells": [
    {
      "cell_type": "code",
      "execution_count": 1,
      "metadata": {
        "id": "ItkcQeieJS2A"
      },
      "outputs": [],
      "source": [
        "import pandas as pd\n",
        "import numpy as np\n",
        "from scipy.stats import norm\n",
        "import datetime\n",
        "import matplotlib.pyplot as plt\n",
        "import seaborn as sns"
      ]
    },
    {
      "cell_type": "code",
      "source": [
        "import statsmodels.formula.api as smf"
      ],
      "metadata": {
        "colab": {
          "base_uri": "https://localhost:8080/"
        },
        "id": "veeTzG--aGsH",
        "outputId": "45205d81-48cc-4229-d38e-813f576a8a6c"
      },
      "execution_count": 2,
      "outputs": [
        {
          "output_type": "stream",
          "name": "stderr",
          "text": [
            "/usr/local/lib/python3.7/dist-packages/statsmodels/tools/_testing.py:19: FutureWarning: pandas.util.testing is deprecated. Use the functions in the public API at pandas.testing instead.\n",
            "  import pandas.util.testing as tm\n"
          ]
        }
      ]
    },
    {
      "cell_type": "code",
      "source": [
        "from google.colab import files\n",
        "uploaded = files.upload()"
      ],
      "metadata": {
        "colab": {
          "resources": {
            "http://localhost:8080/nbextensions/google.colab/files.js": {
              "data": "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",
              "ok": true,
              "headers": [
                [
                  "content-type",
                  "application/javascript"
                ]
              ],
              "status": 200,
              "status_text": ""
            }
          },
          "base_uri": "https://localhost:8080/",
          "height": 73
        },
        "id": "hBSeC_dz6dPW",
        "outputId": "b8af2311-fc87-43a4-b6fa-5e8cd5d94edd"
      },
      "execution_count": 3,
      "outputs": [
        {
          "output_type": "display_data",
          "data": {
            "text/html": [
              "\n",
              "     <input type=\"file\" id=\"files-d6371731-b311-454f-9d07-e231c238e27c\" name=\"files[]\" multiple disabled\n",
              "        style=\"border:none\" />\n",
              "     <output id=\"result-d6371731-b311-454f-9d07-e231c238e27c\">\n",
              "      Upload widget is only available when the cell has been executed in the\n",
              "      current browser session. Please rerun this cell to enable.\n",
              "      </output>\n",
              "      <script src=\"/nbextensions/google.colab/files.js\"></script> "
            ],
            "text/plain": [
              "<IPython.core.display.HTML object>"
            ]
          },
          "metadata": {}
        },
        {
          "output_type": "stream",
          "name": "stdout",
          "text": [
            "Saving statessay.csv to statessay.csv\n"
          ]
        }
      ]
    },
    {
      "cell_type": "code",
      "source": [
        "df = pd.read_csv(\"statessay.csv\")"
      ],
      "metadata": {
        "id": "5G0z3b5W6oh7"
      },
      "execution_count": 4,
      "outputs": []
    },
    {
      "cell_type": "code",
      "source": [
        "df.head()"
      ],
      "metadata": {
        "colab": {
          "base_uri": "https://localhost:8080/",
          "height": 267
        },
        "id": "wlEjAmNG61D2",
        "outputId": "7ddfb117-2545-457e-8ec6-900da364961e"
      },
      "execution_count": 5,
      "outputs": [
        {
          "output_type": "execute_result",
          "data": {
            "text/html": [
              "\n",
              "  <div id=\"df-fe40bb0c-b581-46dc-a963-a5d8db986728\">\n",
              "    <div class=\"colab-df-container\">\n",
              "      <div>\n",
              "<style scoped>\n",
              "    .dataframe tbody tr th:only-of-type {\n",
              "        vertical-align: middle;\n",
              "    }\n",
              "\n",
              "    .dataframe tbody tr th {\n",
              "        vertical-align: top;\n",
              "    }\n",
              "\n",
              "    .dataframe thead th {\n",
              "        text-align: right;\n",
              "    }\n",
              "</style>\n",
              "<table border=\"1\" class=\"dataframe\">\n",
              "  <thead>\n",
              "    <tr style=\"text-align: right;\">\n",
              "      <th></th>\n",
              "      <th>Country</th>\n",
              "      <th>GDP per capita/$</th>\n",
              "      <th>average BMI</th>\n",
              "      <th>average female BMI</th>\n",
              "      <th>average male BMI</th>\n",
              "      <th>average life expectancy</th>\n",
              "      <th>average female life expectancy</th>\n",
              "      <th>average male life expectancy</th>\n",
              "    </tr>\n",
              "  </thead>\n",
              "  <tbody>\n",
              "    <tr>\n",
              "      <th>0</th>\n",
              "      <td>Australia</td>\n",
              "      <td>48197</td>\n",
              "      <td>27.30</td>\n",
              "      <td>26.87</td>\n",
              "      <td>27.72</td>\n",
              "      <td>82.97</td>\n",
              "      <td>84.99</td>\n",
              "      <td>80.95</td>\n",
              "    </tr>\n",
              "    <tr>\n",
              "      <th>1</th>\n",
              "      <td>Afghanistan</td>\n",
              "      <td>2057</td>\n",
              "      <td>23.46</td>\n",
              "      <td>24.23</td>\n",
              "      <td>22.68</td>\n",
              "      <td>63.81</td>\n",
              "      <td>65.28</td>\n",
              "      <td>62.34</td>\n",
              "    </tr>\n",
              "    <tr>\n",
              "      <th>2</th>\n",
              "      <td>Belguim</td>\n",
              "      <td>49829</td>\n",
              "      <td>26.28</td>\n",
              "      <td>25.75</td>\n",
              "      <td>26.80</td>\n",
              "      <td>81.11</td>\n",
              "      <td>83.49</td>\n",
              "      <td>78.72</td>\n",
              "    </tr>\n",
              "    <tr>\n",
              "      <th>3</th>\n",
              "      <td>Belize</td>\n",
              "      <td>7207</td>\n",
              "      <td>29.19</td>\n",
              "      <td>30.75</td>\n",
              "      <td>27.63</td>\n",
              "      <td>74.35</td>\n",
              "      <td>77.20</td>\n",
              "      <td>71.50</td>\n",
              "    </tr>\n",
              "    <tr>\n",
              "      <th>4</th>\n",
              "      <td>Bhutan</td>\n",
              "      <td>10775</td>\n",
              "      <td>24.08</td>\n",
              "      <td>24.57</td>\n",
              "      <td>23.59</td>\n",
              "      <td>70.78</td>\n",
              "      <td>71.06</td>\n",
              "      <td>70.50</td>\n",
              "    </tr>\n",
              "  </tbody>\n",
              "</table>\n",
              "</div>\n",
              "      <button class=\"colab-df-convert\" onclick=\"convertToInteractive('df-fe40bb0c-b581-46dc-a963-a5d8db986728')\"\n",
              "              title=\"Convert this dataframe to an interactive table.\"\n",
              "              style=\"display:none;\">\n",
              "        \n",
              "  <svg xmlns=\"http://www.w3.org/2000/svg\" height=\"24px\"viewBox=\"0 0 24 24\"\n",
              "       width=\"24px\">\n",
              "    <path d=\"M0 0h24v24H0V0z\" fill=\"none\"/>\n",
              "    <path d=\"M18.56 5.44l.94 2.06.94-2.06 2.06-.94-2.06-.94-.94-2.06-.94 2.06-2.06.94zm-11 1L8.5 8.5l.94-2.06 2.06-.94-2.06-.94L8.5 2.5l-.94 2.06-2.06.94zm10 10l.94 2.06.94-2.06 2.06-.94-2.06-.94-.94-2.06-.94 2.06-2.06.94z\"/><path d=\"M17.41 7.96l-1.37-1.37c-.4-.4-.92-.59-1.43-.59-.52 0-1.04.2-1.43.59L10.3 9.45l-7.72 7.72c-.78.78-.78 2.05 0 2.83L4 21.41c.39.39.9.59 1.41.59.51 0 1.02-.2 1.41-.59l7.78-7.78 2.81-2.81c.8-.78.8-2.07 0-2.86zM5.41 20L4 18.59l7.72-7.72 1.47 1.35L5.41 20z\"/>\n",
              "  </svg>\n",
              "      </button>\n",
              "      \n",
              "  <style>\n",
              "    .colab-df-container {\n",
              "      display:flex;\n",
              "      flex-wrap:wrap;\n",
              "      gap: 12px;\n",
              "    }\n",
              "\n",
              "    .colab-df-convert {\n",
              "      background-color: #E8F0FE;\n",
              "      border: none;\n",
              "      border-radius: 50%;\n",
              "      cursor: pointer;\n",
              "      display: none;\n",
              "      fill: #1967D2;\n",
              "      height: 32px;\n",
              "      padding: 0 0 0 0;\n",
              "      width: 32px;\n",
              "    }\n",
              "\n",
              "    .colab-df-convert:hover {\n",
              "      background-color: #E2EBFA;\n",
              "      box-shadow: 0px 1px 2px rgba(60, 64, 67, 0.3), 0px 1px 3px 1px rgba(60, 64, 67, 0.15);\n",
              "      fill: #174EA6;\n",
              "    }\n",
              "\n",
              "    [theme=dark] .colab-df-convert {\n",
              "      background-color: #3B4455;\n",
              "      fill: #D2E3FC;\n",
              "    }\n",
              "\n",
              "    [theme=dark] .colab-df-convert:hover {\n",
              "      background-color: #434B5C;\n",
              "      box-shadow: 0px 1px 3px 1px rgba(0, 0, 0, 0.15);\n",
              "      filter: drop-shadow(0px 1px 2px rgba(0, 0, 0, 0.3));\n",
              "      fill: #FFFFFF;\n",
              "    }\n",
              "  </style>\n",
              "\n",
              "      <script>\n",
              "        const buttonEl =\n",
              "          document.querySelector('#df-fe40bb0c-b581-46dc-a963-a5d8db986728 button.colab-df-convert');\n",
              "        buttonEl.style.display =\n",
              "          google.colab.kernel.accessAllowed ? 'block' : 'none';\n",
              "\n",
              "        async function convertToInteractive(key) {\n",
              "          const element = document.querySelector('#df-fe40bb0c-b581-46dc-a963-a5d8db986728');\n",
              "          const dataTable =\n",
              "            await google.colab.kernel.invokeFunction('convertToInteractive',\n",
              "                                                     [key], {});\n",
              "          if (!dataTable) return;\n",
              "\n",
              "          const docLinkHtml = 'Like what you see? Visit the ' +\n",
              "            '<a target=\"_blank\" href=https://colab.research.google.com/notebooks/data_table.ipynb>data table notebook</a>'\n",
              "            + ' to learn more about interactive tables.';\n",
              "          element.innerHTML = '';\n",
              "          dataTable['output_type'] = 'display_data';\n",
              "          await google.colab.output.renderOutput(dataTable, element);\n",
              "          const docLink = document.createElement('div');\n",
              "          docLink.innerHTML = docLinkHtml;\n",
              "          element.appendChild(docLink);\n",
              "        }\n",
              "      </script>\n",
              "    </div>\n",
              "  </div>\n",
              "  "
            ],
            "text/plain": [
              "       Country  ...  average male life expectancy\n",
              "0    Australia  ...                         80.95\n",
              "1  Afghanistan  ...                         62.34\n",
              "2      Belguim  ...                         78.72\n",
              "3       Belize  ...                         71.50\n",
              "4       Bhutan  ...                         70.50\n",
              "\n",
              "[5 rows x 8 columns]"
            ]
          },
          "metadata": {},
          "execution_count": 5
        }
      ]
    },
    {
      "cell_type": "code",
      "source": [
        "df.info()"
      ],
      "metadata": {
        "colab": {
          "base_uri": "https://localhost:8080/"
        },
        "id": "Ov8wgxqj62LM",
        "outputId": "1dcc86c5-a46f-4c79-fd18-a1f38e617860"
      },
      "execution_count": 6,
      "outputs": [
        {
          "output_type": "stream",
          "name": "stdout",
          "text": [
            "<class 'pandas.core.frame.DataFrame'>\n",
            "RangeIndex: 50 entries, 0 to 49\n",
            "Data columns (total 8 columns):\n",
            " #   Column                          Non-Null Count  Dtype  \n",
            "---  ------                          --------------  -----  \n",
            " 0   Country                         50 non-null     object \n",
            " 1   GDP per capita/$                50 non-null     int64  \n",
            " 2   average BMI                     50 non-null     float64\n",
            " 3   average female BMI              50 non-null     float64\n",
            " 4   average male BMI                50 non-null     float64\n",
            " 5   average life expectancy         50 non-null     float64\n",
            " 6   average female life expectancy  50 non-null     float64\n",
            " 7   average male life expectancy    50 non-null     float64\n",
            "dtypes: float64(6), int64(1), object(1)\n",
            "memory usage: 3.2+ KB\n"
          ]
        }
      ]
    },
    {
      "cell_type": "code",
      "source": [
        "df.isnull().sum()"
      ],
      "metadata": {
        "colab": {
          "base_uri": "https://localhost:8080/"
        },
        "id": "ulYpUD9_7fkh",
        "outputId": "42950064-0318-4f89-e6f0-cbc33df71284"
      },
      "execution_count": 7,
      "outputs": [
        {
          "output_type": "execute_result",
          "data": {
            "text/plain": [
              "Country                           0\n",
              "GDP per capita/$                  0\n",
              "average BMI                       0\n",
              "average female BMI                0\n",
              "average male BMI                  0\n",
              "average life expectancy           0\n",
              "average female life expectancy    0\n",
              "average male life expectancy      0\n",
              "dtype: int64"
            ]
          },
          "metadata": {},
          "execution_count": 7
        }
      ]
    },
    {
      "cell_type": "code",
      "source": [
        "df.describe()"
      ],
      "metadata": {
        "colab": {
          "base_uri": "https://localhost:8080/",
          "height": 361
        },
        "id": "7nkg7YCI7xXw",
        "outputId": "a3ff6630-07eb-4943-a225-04266414baf0"
      },
      "execution_count": 8,
      "outputs": [
        {
          "output_type": "execute_result",
          "data": {
            "text/html": [
              "\n",
              "  <div id=\"df-b012f55f-28d2-4616-8524-428bd6c93cf4\">\n",
              "    <div class=\"colab-df-container\">\n",
              "      <div>\n",
              "<style scoped>\n",
              "    .dataframe tbody tr th:only-of-type {\n",
              "        vertical-align: middle;\n",
              "    }\n",
              "\n",
              "    .dataframe tbody tr th {\n",
              "        vertical-align: top;\n",
              "    }\n",
              "\n",
              "    .dataframe thead th {\n",
              "        text-align: right;\n",
              "    }\n",
              "</style>\n",
              "<table border=\"1\" class=\"dataframe\">\n",
              "  <thead>\n",
              "    <tr style=\"text-align: right;\">\n",
              "      <th></th>\n",
              "      <th>GDP per capita/$</th>\n",
              "      <th>average BMI</th>\n",
              "      <th>average female BMI</th>\n",
              "      <th>average male BMI</th>\n",
              "      <th>average life expectancy</th>\n",
              "      <th>average female life expectancy</th>\n",
              "      <th>average male life expectancy</th>\n",
              "    </tr>\n",
              "  </thead>\n",
              "  <tbody>\n",
              "    <tr>\n",
              "      <th>count</th>\n",
              "      <td>50.000000</td>\n",
              "      <td>50.000000</td>\n",
              "      <td>50.00000</td>\n",
              "      <td>50.00000</td>\n",
              "      <td>50.000000</td>\n",
              "      <td>50.000000</td>\n",
              "      <td>50.000000</td>\n",
              "    </tr>\n",
              "    <tr>\n",
              "      <th>mean</th>\n",
              "      <td>28459.200000</td>\n",
              "      <td>25.674600</td>\n",
              "      <td>25.87720</td>\n",
              "      <td>25.46540</td>\n",
              "      <td>73.823600</td>\n",
              "      <td>75.965000</td>\n",
              "      <td>71.678200</td>\n",
              "    </tr>\n",
              "    <tr>\n",
              "      <th>std</th>\n",
              "      <td>25197.379026</td>\n",
              "      <td>2.315167</td>\n",
              "      <td>2.49027</td>\n",
              "      <td>2.38499</td>\n",
              "      <td>9.168416</td>\n",
              "      <td>9.462133</td>\n",
              "      <td>8.973969</td>\n",
              "    </tr>\n",
              "    <tr>\n",
              "      <th>min</th>\n",
              "      <td>880.000000</td>\n",
              "      <td>20.620000</td>\n",
              "      <td>21.12000</td>\n",
              "      <td>20.11000</td>\n",
              "      <td>52.140000</td>\n",
              "      <td>54.860000</td>\n",
              "      <td>48.970000</td>\n",
              "    </tr>\n",
              "    <tr>\n",
              "      <th>25%</th>\n",
              "      <td>4639.000000</td>\n",
              "      <td>23.947500</td>\n",
              "      <td>24.25000</td>\n",
              "      <td>23.56750</td>\n",
              "      <td>65.652500</td>\n",
              "      <td>67.737500</td>\n",
              "      <td>63.820000</td>\n",
              "    </tr>\n",
              "    <tr>\n",
              "      <th>50%</th>\n",
              "      <td>25011.000000</td>\n",
              "      <td>25.775000</td>\n",
              "      <td>25.88000</td>\n",
              "      <td>26.03000</td>\n",
              "      <td>76.640000</td>\n",
              "      <td>79.195000</td>\n",
              "      <td>73.945000</td>\n",
              "    </tr>\n",
              "    <tr>\n",
              "      <th>75%</th>\n",
              "      <td>47145.250000</td>\n",
              "      <td>27.297500</td>\n",
              "      <td>27.14750</td>\n",
              "      <td>27.47250</td>\n",
              "      <td>81.820000</td>\n",
              "      <td>83.940000</td>\n",
              "      <td>79.240000</td>\n",
              "    </tr>\n",
              "    <tr>\n",
              "      <th>max</th>\n",
              "      <td>95602.000000</td>\n",
              "      <td>32.370000</td>\n",
              "      <td>34.01000</td>\n",
              "      <td>30.72000</td>\n",
              "      <td>84.300000</td>\n",
              "      <td>87.200000</td>\n",
              "      <td>81.390000</td>\n",
              "    </tr>\n",
              "  </tbody>\n",
              "</table>\n",
              "</div>\n",
              "      <button class=\"colab-df-convert\" onclick=\"convertToInteractive('df-b012f55f-28d2-4616-8524-428bd6c93cf4')\"\n",
              "              title=\"Convert this dataframe to an interactive table.\"\n",
              "              style=\"display:none;\">\n",
              "        \n",
              "  <svg xmlns=\"http://www.w3.org/2000/svg\" height=\"24px\"viewBox=\"0 0 24 24\"\n",
              "       width=\"24px\">\n",
              "    <path d=\"M0 0h24v24H0V0z\" fill=\"none\"/>\n",
              "    <path d=\"M18.56 5.44l.94 2.06.94-2.06 2.06-.94-2.06-.94-.94-2.06-.94 2.06-2.06.94zm-11 1L8.5 8.5l.94-2.06 2.06-.94-2.06-.94L8.5 2.5l-.94 2.06-2.06.94zm10 10l.94 2.06.94-2.06 2.06-.94-2.06-.94-.94-2.06-.94 2.06-2.06.94z\"/><path d=\"M17.41 7.96l-1.37-1.37c-.4-.4-.92-.59-1.43-.59-.52 0-1.04.2-1.43.59L10.3 9.45l-7.72 7.72c-.78.78-.78 2.05 0 2.83L4 21.41c.39.39.9.59 1.41.59.51 0 1.02-.2 1.41-.59l7.78-7.78 2.81-2.81c.8-.78.8-2.07 0-2.86zM5.41 20L4 18.59l7.72-7.72 1.47 1.35L5.41 20z\"/>\n",
              "  </svg>\n",
              "      </button>\n",
              "      \n",
              "  <style>\n",
              "    .colab-df-container {\n",
              "      display:flex;\n",
              "      flex-wrap:wrap;\n",
              "      gap: 12px;\n",
              "    }\n",
              "\n",
              "    .colab-df-convert {\n",
              "      background-color: #E8F0FE;\n",
              "      border: none;\n",
              "      border-radius: 50%;\n",
              "      cursor: pointer;\n",
              "      display: none;\n",
              "      fill: #1967D2;\n",
              "      height: 32px;\n",
              "      padding: 0 0 0 0;\n",
              "      width: 32px;\n",
              "    }\n",
              "\n",
              "    .colab-df-convert:hover {\n",
              "      background-color: #E2EBFA;\n",
              "      box-shadow: 0px 1px 2px rgba(60, 64, 67, 0.3), 0px 1px 3px 1px rgba(60, 64, 67, 0.15);\n",
              "      fill: #174EA6;\n",
              "    }\n",
              "\n",
              "    [theme=dark] .colab-df-convert {\n",
              "      background-color: #3B4455;\n",
              "      fill: #D2E3FC;\n",
              "    }\n",
              "\n",
              "    [theme=dark] .colab-df-convert:hover {\n",
              "      background-color: #434B5C;\n",
              "      box-shadow: 0px 1px 3px 1px rgba(0, 0, 0, 0.15);\n",
              "      filter: drop-shadow(0px 1px 2px rgba(0, 0, 0, 0.3));\n",
              "      fill: #FFFFFF;\n",
              "    }\n",
              "  </style>\n",
              "\n",
              "      <script>\n",
              "        const buttonEl =\n",
              "          document.querySelector('#df-b012f55f-28d2-4616-8524-428bd6c93cf4 button.colab-df-convert');\n",
              "        buttonEl.style.display =\n",
              "          google.colab.kernel.accessAllowed ? 'block' : 'none';\n",
              "\n",
              "        async function convertToInteractive(key) {\n",
              "          const element = document.querySelector('#df-b012f55f-28d2-4616-8524-428bd6c93cf4');\n",
              "          const dataTable =\n",
              "            await google.colab.kernel.invokeFunction('convertToInteractive',\n",
              "                                                     [key], {});\n",
              "          if (!dataTable) return;\n",
              "\n",
              "          const docLinkHtml = 'Like what you see? Visit the ' +\n",
              "            '<a target=\"_blank\" href=https://colab.research.google.com/notebooks/data_table.ipynb>data table notebook</a>'\n",
              "            + ' to learn more about interactive tables.';\n",
              "          element.innerHTML = '';\n",
              "          dataTable['output_type'] = 'display_data';\n",
              "          await google.colab.output.renderOutput(dataTable, element);\n",
              "          const docLink = document.createElement('div');\n",
              "          docLink.innerHTML = docLinkHtml;\n",
              "          element.appendChild(docLink);\n",
              "        }\n",
              "      </script>\n",
              "    </div>\n",
              "  </div>\n",
              "  "
            ],
            "text/plain": [
              "       GDP per capita/$  ...  average male life expectancy\n",
              "count         50.000000  ...                     50.000000\n",
              "mean       28459.200000  ...                     71.678200\n",
              "std        25197.379026  ...                      8.973969\n",
              "min          880.000000  ...                     48.970000\n",
              "25%         4639.000000  ...                     63.820000\n",
              "50%        25011.000000  ...                     73.945000\n",
              "75%        47145.250000  ...                     79.240000\n",
              "max        95602.000000  ...                     81.390000\n",
              "\n",
              "[8 rows x 7 columns]"
            ]
          },
          "metadata": {},
          "execution_count": 8
        }
      ]
    },
    {
      "cell_type": "code",
      "source": [
        "df.columns"
      ],
      "metadata": {
        "colab": {
          "base_uri": "https://localhost:8080/"
        },
        "id": "LZdDTljp8Zgm",
        "outputId": "82ff1d78-7f75-4de5-fc3c-a31791f1911e"
      },
      "execution_count": 9,
      "outputs": [
        {
          "output_type": "execute_result",
          "data": {
            "text/plain": [
              "Index(['Country', 'GDP per capita/$', 'average BMI', 'average female BMI',\n",
              "       'average male BMI', 'average life expectancy',\n",
              "       'average female life expectancy', 'average male life expectancy'],\n",
              "      dtype='object')"
            ]
          },
          "metadata": {},
          "execution_count": 9
        }
      ]
    },
    {
      "cell_type": "code",
      "source": [
        "corr_score = df[['Country', 'GDP per capita/$', 'average BMI', 'average female BMI',\n",
        "       'average male BMI', 'average life expectancy',\n",
        "       'average female life expectancy', 'average male life expectancy']].corr()"
      ],
      "metadata": {
        "id": "zGPnDlXW77TZ"
      },
      "execution_count": 10,
      "outputs": []
    },
    {
      "cell_type": "code",
      "source": [
        "corr_score"
      ],
      "metadata": {
        "colab": {
          "base_uri": "https://localhost:8080/",
          "height": 365
        },
        "id": "UtfB6C738tWv",
        "outputId": "d51c2156-1b85-4ef9-e3b8-50fe143db4b0"
      },
      "execution_count": 11,
      "outputs": [
        {
          "output_type": "execute_result",
          "data": {
            "text/html": [
              "\n",
              "  <div id=\"df-7e424342-3d90-46b3-83c7-1933e5d4483e\">\n",
              "    <div class=\"colab-df-container\">\n",
              "      <div>\n",
              "<style scoped>\n",
              "    .dataframe tbody tr th:only-of-type {\n",
              "        vertical-align: middle;\n",
              "    }\n",
              "\n",
              "    .dataframe tbody tr th {\n",
              "        vertical-align: top;\n",
              "    }\n",
              "\n",
              "    .dataframe thead th {\n",
              "        text-align: right;\n",
              "    }\n",
              "</style>\n",
              "<table border=\"1\" class=\"dataframe\">\n",
              "  <thead>\n",
              "    <tr style=\"text-align: right;\">\n",
              "      <th></th>\n",
              "      <th>GDP per capita/$</th>\n",
              "      <th>average BMI</th>\n",
              "      <th>average female BMI</th>\n",
              "      <th>average male BMI</th>\n",
              "      <th>average life expectancy</th>\n",
              "      <th>average female life expectancy</th>\n",
              "      <th>average male life expectancy</th>\n",
              "    </tr>\n",
              "  </thead>\n",
              "  <tbody>\n",
              "    <tr>\n",
              "      <th>GDP per capita/$</th>\n",
              "      <td>1.000000</td>\n",
              "      <td>0.388962</td>\n",
              "      <td>0.176298</td>\n",
              "      <td>0.571353</td>\n",
              "      <td>0.781719</td>\n",
              "      <td>0.761451</td>\n",
              "      <td>0.794468</td>\n",
              "    </tr>\n",
              "    <tr>\n",
              "      <th>average BMI</th>\n",
              "      <td>0.388962</td>\n",
              "      <td>1.000000</td>\n",
              "      <td>0.951969</td>\n",
              "      <td>0.947451</td>\n",
              "      <td>0.460276</td>\n",
              "      <td>0.463892</td>\n",
              "      <td>0.451515</td>\n",
              "    </tr>\n",
              "    <tr>\n",
              "      <th>average female BMI</th>\n",
              "      <td>0.176298</td>\n",
              "      <td>0.951969</td>\n",
              "      <td>1.000000</td>\n",
              "      <td>0.803994</td>\n",
              "      <td>0.213863</td>\n",
              "      <td>0.220073</td>\n",
              "      <td>0.205089</td>\n",
              "    </tr>\n",
              "    <tr>\n",
              "      <th>average male BMI</th>\n",
              "      <td>0.571353</td>\n",
              "      <td>0.947451</td>\n",
              "      <td>0.803994</td>\n",
              "      <td>1.000000</td>\n",
              "      <td>0.670483</td>\n",
              "      <td>0.671027</td>\n",
              "      <td>0.662627</td>\n",
              "    </tr>\n",
              "    <tr>\n",
              "      <th>average life expectancy</th>\n",
              "      <td>0.781719</td>\n",
              "      <td>0.460276</td>\n",
              "      <td>0.213863</td>\n",
              "      <td>0.670483</td>\n",
              "      <td>1.000000</td>\n",
              "      <td>0.994915</td>\n",
              "      <td>0.994343</td>\n",
              "    </tr>\n",
              "    <tr>\n",
              "      <th>average female life expectancy</th>\n",
              "      <td>0.761451</td>\n",
              "      <td>0.463892</td>\n",
              "      <td>0.220073</td>\n",
              "      <td>0.671027</td>\n",
              "      <td>0.994915</td>\n",
              "      <td>1.000000</td>\n",
              "      <td>0.978587</td>\n",
              "    </tr>\n",
              "    <tr>\n",
              "      <th>average male life expectancy</th>\n",
              "      <td>0.794468</td>\n",
              "      <td>0.451515</td>\n",
              "      <td>0.205089</td>\n",
              "      <td>0.662627</td>\n",
              "      <td>0.994343</td>\n",
              "      <td>0.978587</td>\n",
              "      <td>1.000000</td>\n",
              "    </tr>\n",
              "  </tbody>\n",
              "</table>\n",
              "</div>\n",
              "      <button class=\"colab-df-convert\" onclick=\"convertToInteractive('df-7e424342-3d90-46b3-83c7-1933e5d4483e')\"\n",
              "              title=\"Convert this dataframe to an interactive table.\"\n",
              "              style=\"display:none;\">\n",
              "        \n",
              "  <svg xmlns=\"http://www.w3.org/2000/svg\" height=\"24px\"viewBox=\"0 0 24 24\"\n",
              "       width=\"24px\">\n",
              "    <path d=\"M0 0h24v24H0V0z\" fill=\"none\"/>\n",
              "    <path d=\"M18.56 5.44l.94 2.06.94-2.06 2.06-.94-2.06-.94-.94-2.06-.94 2.06-2.06.94zm-11 1L8.5 8.5l.94-2.06 2.06-.94-2.06-.94L8.5 2.5l-.94 2.06-2.06.94zm10 10l.94 2.06.94-2.06 2.06-.94-2.06-.94-.94-2.06-.94 2.06-2.06.94z\"/><path d=\"M17.41 7.96l-1.37-1.37c-.4-.4-.92-.59-1.43-.59-.52 0-1.04.2-1.43.59L10.3 9.45l-7.72 7.72c-.78.78-.78 2.05 0 2.83L4 21.41c.39.39.9.59 1.41.59.51 0 1.02-.2 1.41-.59l7.78-7.78 2.81-2.81c.8-.78.8-2.07 0-2.86zM5.41 20L4 18.59l7.72-7.72 1.47 1.35L5.41 20z\"/>\n",
              "  </svg>\n",
              "      </button>\n",
              "      \n",
              "  <style>\n",
              "    .colab-df-container {\n",
              "      display:flex;\n",
              "      flex-wrap:wrap;\n",
              "      gap: 12px;\n",
              "    }\n",
              "\n",
              "    .colab-df-convert {\n",
              "      background-color: #E8F0FE;\n",
              "      border: none;\n",
              "      border-radius: 50%;\n",
              "      cursor: pointer;\n",
              "      display: none;\n",
              "      fill: #1967D2;\n",
              "      height: 32px;\n",
              "      padding: 0 0 0 0;\n",
              "      width: 32px;\n",
              "    }\n",
              "\n",
              "    .colab-df-convert:hover {\n",
              "      background-color: #E2EBFA;\n",
              "      box-shadow: 0px 1px 2px rgba(60, 64, 67, 0.3), 0px 1px 3px 1px rgba(60, 64, 67, 0.15);\n",
              "      fill: #174EA6;\n",
              "    }\n",
              "\n",
              "    [theme=dark] .colab-df-convert {\n",
              "      background-color: #3B4455;\n",
              "      fill: #D2E3FC;\n",
              "    }\n",
              "\n",
              "    [theme=dark] .colab-df-convert:hover {\n",
              "      background-color: #434B5C;\n",
              "      box-shadow: 0px 1px 3px 1px rgba(0, 0, 0, 0.15);\n",
              "      filter: drop-shadow(0px 1px 2px rgba(0, 0, 0, 0.3));\n",
              "      fill: #FFFFFF;\n",
              "    }\n",
              "  </style>\n",
              "\n",
              "      <script>\n",
              "        const buttonEl =\n",
              "          document.querySelector('#df-7e424342-3d90-46b3-83c7-1933e5d4483e button.colab-df-convert');\n",
              "        buttonEl.style.display =\n",
              "          google.colab.kernel.accessAllowed ? 'block' : 'none';\n",
              "\n",
              "        async function convertToInteractive(key) {\n",
              "          const element = document.querySelector('#df-7e424342-3d90-46b3-83c7-1933e5d4483e');\n",
              "          const dataTable =\n",
              "            await google.colab.kernel.invokeFunction('convertToInteractive',\n",
              "                                                     [key], {});\n",
              "          if (!dataTable) return;\n",
              "\n",
              "          const docLinkHtml = 'Like what you see? Visit the ' +\n",
              "            '<a target=\"_blank\" href=https://colab.research.google.com/notebooks/data_table.ipynb>data table notebook</a>'\n",
              "            + ' to learn more about interactive tables.';\n",
              "          element.innerHTML = '';\n",
              "          dataTable['output_type'] = 'display_data';\n",
              "          await google.colab.output.renderOutput(dataTable, element);\n",
              "          const docLink = document.createElement('div');\n",
              "          docLink.innerHTML = docLinkHtml;\n",
              "          element.appendChild(docLink);\n",
              "        }\n",
              "      </script>\n",
              "    </div>\n",
              "  </div>\n",
              "  "
            ],
            "text/plain": [
              "                                GDP per capita/$  ...  average male life expectancy\n",
              "GDP per capita/$                        1.000000  ...                      0.794468\n",
              "average BMI                             0.388962  ...                      0.451515\n",
              "average female BMI                      0.176298  ...                      0.205089\n",
              "average male BMI                        0.571353  ...                      0.662627\n",
              "average life expectancy                 0.781719  ...                      0.994343\n",
              "average female life expectancy          0.761451  ...                      0.978587\n",
              "average male life expectancy            0.794468  ...                      1.000000\n",
              "\n",
              "[7 rows x 7 columns]"
            ]
          },
          "metadata": {},
          "execution_count": 11
        }
      ]
    },
    {
      "cell_type": "code",
      "source": [
        "sns.heatmap(corr_score)"
      ],
      "metadata": {
        "colab": {
          "base_uri": "https://localhost:8080/",
          "height": 435
        },
        "id": "k3kQB28b8wpU",
        "outputId": "1df9fb12-9bfa-4d0f-bb6c-3ed364642483"
      },
      "execution_count": 12,
      "outputs": [
        {
          "output_type": "execute_result",
          "data": {
            "text/plain": [
              "<matplotlib.axes._subplots.AxesSubplot at 0x7fd886059650>"
            ]
          },
          "metadata": {},
          "execution_count": 12
        },
        {
          "output_type": "display_data",
          "data": {
            "image/png": "[encoded data removed]",
            "text/plain": [
              "<Figure size 432x288 with 2 Axes>"
            ]
          },
          "metadata": {
            "needs_background": "light"
          }
        }
      ]
    },
    {
      "cell_type": "code",
      "source": [
        "df.columns"
      ],
      "metadata": {
        "colab": {
          "base_uri": "https://localhost:8080/"
        },
        "id": "2nTiB0uyOwdM",
        "outputId": "a8928d80-7d70-411a-8b0e-e66671b00cb0"
      },
      "execution_count": 13,
      "outputs": [
        {
          "output_type": "execute_result",
          "data": {
            "text/plain": [
              "Index(['Country', 'GDP per capita/$', 'average BMI', 'average female BMI',\n",
              "       'average male BMI', 'average life expectancy',\n",
              "       'average female life expectancy', 'average male life expectancy'],\n",
              "      dtype='object')"
            ]
          },
          "metadata": {},
          "execution_count": 13
        }
      ]
    },
    {
      "cell_type": "code",
      "source": [
        "model_life_BMI = smf.ols(formula='Q(\"average life expectancy\") ~ Q(\"average BMI\")', data=df).fit()\n",
        "print(model_life_BMI.summary())"
      ],
      "metadata": {
        "colab": {
          "base_uri": "https://localhost:8080/"
        },
        "id": "IsTSFWN-cjsX",
        "outputId": "20d9f7d9-b1cd-4ff6-8f4e-9bab3ad9cb8e"
      },
      "execution_count": 14,
      "outputs": [
        {
          "output_type": "stream",
          "name": "stdout",
          "text": [
            "                                 OLS Regression Results                                 \n",
            "========================================================================================\n",
            "Dep. Variable:     Q(\"average life expectancy\")   R-squared:                       0.212\n",
            "Model:                                      OLS   Adj. R-squared:                  0.195\n",
            "Method:                           Least Squares   F-statistic:                     12.90\n",
            "Date:                          Thu, 06 Jan 2022   Prob (F-statistic):           0.000770\n",
            "Time:                                  18:50:07   Log-Likelihood:                -175.28\n",
            "No. Observations:                            50   AIC:                             354.6\n",
            "Df Residuals:                                48   BIC:                             358.4\n",
            "Df Model:                                     1                                         \n",
            "Covariance Type:                      nonrobust                                         \n",
            "====================================================================================\n",
            "                       coef    std err          t      P>|t|      [0.025      0.975]\n",
            "------------------------------------------------------------------------------------\n",
            "Intercept           27.0249     13.080      2.066      0.044       0.725      53.325\n",
            "Q(\"average BMI\")     1.8228      0.507      3.592      0.001       0.802       2.843\n",
            "==============================================================================\n",
            "Omnibus:                        1.652   Durbin-Watson:                   1.878\n",
            "Prob(Omnibus):                  0.438   Jarque-Bera (JB):                1.608\n",
            "Skew:                          -0.360   Prob(JB):                        0.447\n",
            "Kurtosis:                       2.497   Cond. No.                         290.\n",
            "==============================================================================\n",
            "\n",
            "Warnings:\n",
            "[1] Standard Errors assume that the covariance matrix of the errors is correctly specified.\n"
          ]
        }
      ]
    },
    {
      "cell_type": "code",
      "source": [
        "model_flife_fBMI = smf.ols(formula='Q(\"average female life expectancy\") ~ Q(\"average female BMI\")', data=df).fit()\n",
        "print(model_flife_fBMI.summary())"
      ],
      "metadata": {
        "colab": {
          "base_uri": "https://localhost:8080/"
        },
        "id": "5_6JcYrFi--8",
        "outputId": "8ae618c7-aef2-45f3-ed8a-e6b96b7c96ea"
      },
      "execution_count": 15,
      "outputs": [
        {
          "output_type": "stream",
          "name": "stdout",
          "text": [
            "                                     OLS Regression Results                                    \n",
            "===============================================================================================\n",
            "Dep. Variable:     Q(\"average female life expectancy\")   R-squared:                       0.048\n",
            "Model:                                             OLS   Adj. R-squared:                  0.029\n",
            "Method:                                  Least Squares   F-statistic:                     2.443\n",
            "Date:                                 Thu, 06 Jan 2022   Prob (F-statistic):              0.125\n",
            "Time:                                         18:50:32   Log-Likelihood:                -181.57\n",
            "No. Observations:                                   50   AIC:                             367.1\n",
            "Df Residuals:                                       48   BIC:                             371.0\n",
            "Df Model:                                            1                                         \n",
            "Covariance Type:                             nonrobust                                         \n",
            "===========================================================================================\n",
            "                              coef    std err          t      P>|t|      [0.025      0.975]\n",
            "-------------------------------------------------------------------------------------------\n",
            "Intercept                  54.3266     13.907      3.907      0.000      26.365      82.288\n",
            "Q(\"average female BMI\")     0.8362      0.535      1.563      0.125      -0.239       1.912\n",
            "==============================================================================\n",
            "Omnibus:                        4.715   Durbin-Watson:                   2.005\n",
            "Prob(Omnibus):                  0.095   Jarque-Bera (JB):                3.449\n",
            "Skew:                          -0.500   Prob(JB):                        0.178\n",
            "Kurtosis:                       2.190   Cond. No.                         274.\n",
            "==============================================================================\n",
            "\n",
            "Warnings:\n",
            "[1] Standard Errors assume that the covariance matrix of the errors is correctly specified.\n"
          ]
        }
      ]
    },
    {
      "cell_type": "code",
      "source": [
        "model_mlife_mBMI = smf.ols(formula='Q(\"average male life expectancy\") ~ Q(\"average male BMI\")', data=df).fit()\n",
        "print(model_mlife_mBMI.summary())"
      ],
      "metadata": {
        "colab": {
          "base_uri": "https://localhost:8080/"
        },
        "id": "1wFnAgsmjd_7",
        "outputId": "cb105778-b808-44f8-bb22-0a164c3e868f"
      },
      "execution_count": 16,
      "outputs": [
        {
          "output_type": "stream",
          "name": "stdout",
          "text": [
            "                                    OLS Regression Results                                   \n",
            "=============================================================================================\n",
            "Dep. Variable:     Q(\"average male life expectancy\")   R-squared:                       0.439\n",
            "Model:                                           OLS   Adj. R-squared:                  0.427\n",
            "Method:                                Least Squares   F-statistic:                     37.57\n",
            "Date:                               Thu, 06 Jan 2022   Prob (F-statistic):           1.59e-07\n",
            "Time:                                       18:50:32   Log-Likelihood:                -165.70\n",
            "No. Observations:                                 50   AIC:                             335.4\n",
            "Df Residuals:                                     48   BIC:                             339.2\n",
            "Df Model:                                          1                                         \n",
            "Covariance Type:                           nonrobust                                         \n",
            "=========================================================================================\n",
            "                            coef    std err          t      P>|t|      [0.025      0.975]\n",
            "-----------------------------------------------------------------------------------------\n",
            "Intercept                 8.1864     10.403      0.787      0.435     -12.729      29.102\n",
            "Q(\"average male BMI\")     2.4933      0.407      6.130      0.000       1.675       3.311\n",
            "==============================================================================\n",
            "Omnibus:                        1.319   Durbin-Watson:                   1.843\n",
            "Prob(Omnibus):                  0.517   Jarque-Bera (JB):                1.147\n",
            "Skew:                          -0.362   Prob(JB):                        0.563\n",
            "Kurtosis:                       2.836   Cond. No.                         277.\n",
            "==============================================================================\n",
            "\n",
            "Warnings:\n",
            "[1] Standard Errors assume that the covariance matrix of the errors is correctly specified.\n"
          ]
        }
      ]
    },
    {
      "cell_type": "code",
      "source": [
        "# boxplot for numerical feature\n",
        "_,axss = plt.subplots(1,3, figsize=[20,5])\n",
        "sns.scatterplot(x='average BMI', y ='average life expectancy', data=df, ax=axss[0]).set_title(\"(a) average life expectancy \\n v.s. \\n average BMI\",fontsize=20)\n",
        "sns.regplot(x='average BMI', y ='average life expectancy', data=df, ax=axss[0])\n",
        "sns.scatterplot(x='average female BMI', y ='average female life expectancy', data=df, ax=axss[1]).set_title(\"(b) average female life expectancy \\n v.s. \\n average female BMI\",fontsize=20)\n",
        "sns.regplot(x='average female BMI', y ='average female life expectancy', data=df, ax=axss[1])\n",
        "sns.scatterplot(x='average male BMI', y ='average male life expectancy', data=df, ax=axss[2]).set_title(\"(c) average male life expectancy \\n v.s. \\n average male BMI\",fontsize=20)\n",
        "sns.regplot(x='average male BMI', y ='average male life expectancy', data = df, ax=axss[2])"
      ],
      "metadata": {
        "colab": {
          "base_uri": "https://localhost:8080/",
          "height": 417
        },
        "id": "_iffyMzvmOkY",
        "outputId": "d35f46ee-9aef-4bb2-d830-44afc44d86a9"
      },
      "execution_count": 17,
      "outputs": [
        {
          "output_type": "execute_result",
          "data": {
            "text/plain": [
              "<matplotlib.axes._subplots.AxesSubplot at 0x7fd87d20f9d0>"
            ]
          },
          "metadata": {},
          "execution_count": 17
        },
        {
          "output_type": "display_data",
          "data": {
            "image/png": "[encoded data removed]",
            "text/plain": [
              "<Figure size 1440x360 with 3 Axes>"
            ]
          },
          "metadata": {
            "needs_background": "light"
          }
        }
      ]
    },
    {
      "cell_type": "code",
      "source": [
        "from scipy.optimize import curve_fit\n",
        "def expfunc(x,a,b,c,d):\n",
        "  return a * np.exp( b * x + c) + d\n",
        "x = np.linspace(0,100000,200)"
      ],
      "metadata": {
        "id": "vZQgaiQjV1Y0"
      },
      "execution_count": 18,
      "outputs": []
    },
    {
      "cell_type": "code",
      "source": [
        "popt1, pcov1 = curve_fit(lambda t,a,b,c,d: a * np.exp(b * t+c) + d, \\\n",
        "                       df['GDP per capita/$'].values, df['average life expectancy'].values, p0=(-50, -0.0002, 0, 80))\n",
        "df2_1 = pd.DataFrame({\"x\":x, \"y\":expfunc(x,*popt1)})\n",
        "\n",
        "popt2, pcov2 = curve_fit(lambda t,a,b,c,d: a * np.exp(b * t+c) + d, \\\n",
        "                       df['GDP per capita/$'].values, df['average female life expectancy'].values, p0=(-50, -0.0002, 0, 80))\n",
        "df2_2 = pd.DataFrame({\"x\":x, \"y\":expfunc(x,*popt2)})\n",
        "\n",
        "popt3, pcov3 = curve_fit(lambda t,a,b,c,d: a * np.exp(b * t+c) + d, \\\n",
        "                       df['GDP per capita/$'].values, df['average male life expectancy'].values, p0=(-50, -0.0002, 0, 80))\n",
        "df2_3 = pd.DataFrame({\"x\":x, \"y\":expfunc(x,*popt3)})\n",
        "\n"
      ],
      "metadata": {
        "id": "SOONx2HSaQSy"
      },
      "execution_count": 20,
      "outputs": []
    },
    {
      "cell_type": "code",
      "source": [
        "print(popt1)\n",
        "print(popt2)\n",
        "print(popt3)"
      ],
      "metadata": {
        "colab": {
          "base_uri": "https://localhost:8080/"
        },
        "id": "1IugV5dihZ3C",
        "outputId": "5a54c4b3-ff48-417b-e38f-695c1969f4a3"
      },
      "execution_count": 21,
      "outputs": [
        {
          "output_type": "stream",
          "name": "stdout",
          "text": [
            "[-3.12160221e+01 -7.52971174e-05 -2.72245521e-01  8.19741651e+01]\n",
            "[-2.34968344e+02 -8.61184189e-05 -2.24827346e+00  8.39079807e+01]\n",
            "[-3.88630846e+01 -6.39804592e-05 -5.26913858e-01  8.02196509e+01]\n"
          ]
        }
      ]
    },
    {
      "cell_type": "code",
      "source": [
        "# boxplot for numerical feature\n",
        "_,axss = plt.subplots(1,3, figsize=[20,5])\n",
        "sns.scatterplot(x='GDP per capita/$', y ='average life expectancy', data=df, ax=axss[0]).set_title(\"(a) average life expectancy \\n v.s. \\n GDP per capita\",fontsize=20)\n",
        "sns.scatterplot(x='GDP per capita/$', y ='average female life expectancy', data=df, ax=axss[1]).set_title(\"(b) average female life expectancy \\n v.s. \\n GDP per capita\",fontsize=20)\n",
        "sns.scatterplot(x='GDP per capita/$', y ='average male life expectancy', data=df, ax=axss[2]).set_title(\"(c) average male life expectancy \\n v.s. \\n GDP per capita\",fontsize=20)\n",
        "sns.lineplot(x='x',y='y', data=df2_1, ax = axss[0])\n",
        "sns.lineplot(x='x',y='y', data=df2_2, ax = axss[1])\n",
        "sns.lineplot(x='x',y='y', data=df2_3, ax = axss[2])\n"
      ],
      "metadata": {
        "colab": {
          "base_uri": "https://localhost:8080/",
          "height": 417
        },
        "id": "S_LaAYACkqw8",
        "outputId": "552981b3-e045-4344-c432-87cbbb84172d"
      },
      "execution_count": 22,
      "outputs": [
        {
          "output_type": "execute_result",
          "data": {
            "text/plain": [
              "<matplotlib.axes._subplots.AxesSubplot at 0x7fd8785a3e50>"
            ]
          },
          "metadata": {},
          "execution_count": 22
        },
        {
          "output_type": "display_data",
          "data": {
            "image/png": "[encoded data removed]",
            "text/plain": [
              "<Figure size 1440x360 with 3 Axes>"
            ]
          },
          "metadata": {
            "needs_background": "light"
          }
        }
      ]
    },
    {
      "cell_type": "code",
      "source": [
        "model_BMI_GDP = smf.ols(formula='Q(\"average BMI\") ~ Q(\"GDP per capita/$\")', data=df).fit()\n",
        "print(model_BMI_GDP.summary())"
      ],
      "metadata": {
        "colab": {
          "base_uri": "https://localhost:8080/"
        },
        "id": "pfCXp520j3vq",
        "outputId": "f99c1fc8-07ce-4450-e82a-e14fda3e1eae"
      },
      "execution_count": 23,
      "outputs": [
        {
          "output_type": "stream",
          "name": "stdout",
          "text": [
            "                            OLS Regression Results                            \n",
            "==============================================================================\n",
            "Dep. Variable:       Q(\"average BMI\")   R-squared:                       0.151\n",
            "Model:                            OLS   Adj. R-squared:                  0.134\n",
            "Method:                 Least Squares   F-statistic:                     8.557\n",
            "Date:                Thu, 06 Jan 2022   Prob (F-statistic):            0.00524\n",
            "Time:                        18:51:11   Log-Likelihood:                -108.31\n",
            "No. Observations:                  50   AIC:                             220.6\n",
            "Df Residuals:                      48   BIC:                             224.5\n",
            "Df Model:                           1                                         \n",
            "Covariance Type:            nonrobust                                         \n",
            "=========================================================================================\n",
            "                            coef    std err          t      P>|t|      [0.025      0.975]\n",
            "-----------------------------------------------------------------------------------------\n",
            "Intercept                24.6575      0.462     53.330      0.000      23.728      25.587\n",
            "Q(\"GDP per capita/$\")  3.574e-05   1.22e-05      2.925      0.005    1.12e-05    6.03e-05\n",
            "==============================================================================\n",
            "Omnibus:                        9.873   Durbin-Watson:                   2.140\n",
            "Prob(Omnibus):                  0.007   Jarque-Bera (JB):               11.037\n",
            "Skew:                           0.734   Prob(JB):                      0.00401\n",
            "Kurtosis:                       4.773   Cond. No.                     5.74e+04\n",
            "==============================================================================\n",
            "\n",
            "Warnings:\n",
            "[1] Standard Errors assume that the covariance matrix of the errors is correctly specified.\n",
            "[2] The condition number is large, 5.74e+04. This might indicate that there are\n",
            "strong multicollinearity or other numerical problems.\n"
          ]
        }
      ]
    },
    {
      "cell_type": "code",
      "source": [
        "model_fBMI_GDP = smf.ols(formula='Q(\"average female BMI\") ~ Q(\"GDP per capita/$\")', data=df).fit()\n",
        "print(model_fBMI_GDP.summary())"
      ],
      "metadata": {
        "colab": {
          "base_uri": "https://localhost:8080/"
        },
        "id": "qMG7dhLYuPle",
        "outputId": "261c9f30-b9f6-49bb-aed7-1610a37a63be"
      },
      "execution_count": 28,
      "outputs": [
        {
          "output_type": "stream",
          "name": "stdout",
          "text": [
            "                               OLS Regression Results                              \n",
            "===================================================================================\n",
            "Dep. Variable:     Q(\"average female BMI\")   R-squared:                       0.031\n",
            "Model:                                 OLS   Adj. R-squared:                  0.011\n",
            "Method:                      Least Squares   F-statistic:                     1.540\n",
            "Date:                     Thu, 06 Jan 2022   Prob (F-statistic):              0.221\n",
            "Time:                             18:52:01   Log-Likelihood:                -115.27\n",
            "No. Observations:                       50   AIC:                             234.5\n",
            "Df Residuals:                           48   BIC:                             238.4\n",
            "Df Model:                                1                                         \n",
            "Covariance Type:                 nonrobust                                         \n",
            "=========================================================================================\n",
            "                            coef    std err          t      P>|t|      [0.025      0.975]\n",
            "-----------------------------------------------------------------------------------------\n",
            "Intercept                25.3813      0.531     47.765      0.000      24.313      26.450\n",
            "Q(\"GDP per capita/$\")  1.742e-05    1.4e-05      1.241      0.221   -1.08e-05    4.57e-05\n",
            "==============================================================================\n",
            "Omnibus:                       10.057   Durbin-Watson:                   2.143\n",
            "Prob(Omnibus):                  0.007   Jarque-Bera (JB):               10.579\n",
            "Skew:                           0.797   Prob(JB):                      0.00505\n",
            "Kurtosis:                       4.592   Cond. No.                     5.74e+04\n",
            "==============================================================================\n",
            "\n",
            "Warnings:\n",
            "[1] Standard Errors assume that the covariance matrix of the errors is correctly specified.\n",
            "[2] The condition number is large, 5.74e+04. This might indicate that there are\n",
            "strong multicollinearity or other numerical problems.\n"
          ]
        }
      ]
    },
    {
      "cell_type": "code",
      "source": [
        "model_mBMI_GDP = smf.ols(formula='Q(\"average male BMI\") ~ Q(\"GDP per capita/$\")', data=df).fit()\n",
        "print(model_mBMI_GDP.summary())"
      ],
      "metadata": {
        "colab": {
          "base_uri": "https://localhost:8080/"
        },
        "id": "cMn2GXSQu-il",
        "outputId": "7cad2f18-9405-4cce-ed67-e7f3c87bf67c"
      },
      "execution_count": 29,
      "outputs": [
        {
          "output_type": "stream",
          "name": "stdout",
          "text": [
            "                              OLS Regression Results                             \n",
            "=================================================================================\n",
            "Dep. Variable:     Q(\"average male BMI\")   R-squared:                       0.326\n",
            "Model:                               OLS   Adj. R-squared:                  0.312\n",
            "Method:                    Least Squares   F-statistic:                     23.26\n",
            "Date:                   Thu, 06 Jan 2022   Prob (F-statistic):           1.47e-05\n",
            "Time:                           18:52:21   Log-Likelihood:                -104.02\n",
            "No. Observations:                     50   AIC:                             212.0\n",
            "Df Residuals:                         48   BIC:                             215.9\n",
            "Df Model:                              1                                         \n",
            "Covariance Type:               nonrobust                                         \n",
            "=========================================================================================\n",
            "                            coef    std err          t      P>|t|      [0.025      0.975]\n",
            "-----------------------------------------------------------------------------------------\n",
            "Intercept                23.9263      0.424     56.388      0.000      23.073      24.779\n",
            "Q(\"GDP per capita/$\")  5.408e-05   1.12e-05      4.823      0.000    3.15e-05    7.66e-05\n",
            "==============================================================================\n",
            "Omnibus:                        5.860   Durbin-Watson:                   2.074\n",
            "Prob(Omnibus):                  0.053   Jarque-Bera (JB):                5.247\n",
            "Skew:                           0.509   Prob(JB):                       0.0725\n",
            "Kurtosis:                       4.218   Cond. No.                     5.74e+04\n",
            "==============================================================================\n",
            "\n",
            "Warnings:\n",
            "[1] Standard Errors assume that the covariance matrix of the errors is correctly specified.\n",
            "[2] The condition number is large, 5.74e+04. This might indicate that there are\n",
            "strong multicollinearity or other numerical problems.\n"
          ]
        }
      ]
    },
    {
      "cell_type": "code",
      "source": [
        "# boxplot for numerical feature\n",
        "_,axss = plt.subplots(1,3, figsize=[20,5])\n",
        "sns.scatterplot(x='GDP per capita/$', y ='average BMI', data=df, ax=axss[0]).set_title(\"(a) average BMI \\n v.s. \\n GDP per capita\",fontsize=20)\n",
        "sns.regplot(x='GDP per capita/$', y ='average BMI', data=df, ax=axss[0])\n",
        "sns.scatterplot(x='GDP per capita/$', y ='average female BMI', data=df, ax=axss[1]).set_title(\"(b) average female BMI \\n v.s. \\n GDP per capita\",fontsize=20)\n",
        "sns.regplot(x='GDP per capita/$', y ='average female BMI', data=df, ax=axss[1])\n",
        "sns.scatterplot(x='GDP per capita/$', y ='average male BMI', data=df, ax=axss[2]).set_title(\"(c) average male BMI \\n v.s. \\n GDP per capita\",fontsize=20)\n",
        "sns.regplot(x='GDP per capita/$', y ='average male BMI', data=df, ax=axss[2])"
      ],
      "metadata": {
        "colab": {
          "base_uri": "https://localhost:8080/",
          "height": 417
        },
        "id": "rmB1Vb1Q9gu0",
        "outputId": "e3175292-446a-4863-bcb9-1bc266beea64"
      },
      "execution_count": 25,
      "outputs": [
        {
          "output_type": "execute_result",
          "data": {
            "text/plain": [
              "<matplotlib.axes._subplots.AxesSubplot at 0x7fd8783fec90>"
            ]
          },
          "metadata": {},
          "execution_count": 25
        },
        {
          "output_type": "display_data",
          "data": {
            "image/png": "[encoded data removed]",
            "text/plain": [
              "<Figure size 1440x360 with 3 Axes>"
            ]
          },
          "metadata": {
            "needs_background": "light"
          }
        }
      ]
    },
    {
      "cell_type": "code",
      "source": [
        "model_life_BMI_GDP = smf.ols(formula='Q(\"average life expectancy\") ~ Q(\"average BMI\") + Q(\"GDP per capita/$\")', data=df).fit()\n",
        "print(model_life_BMI_GDP.summary())"
      ],
      "metadata": {
        "colab": {
          "base_uri": "https://localhost:8080/"
        },
        "id": "iHy7AbZFPLFy",
        "outputId": "7df796a6-0580-470e-9e90-6d872b10ff4b"
      },
      "execution_count": 31,
      "outputs": [
        {
          "output_type": "stream",
          "name": "stdout",
          "text": [
            "                                 OLS Regression Results                                 \n",
            "========================================================================================\n",
            "Dep. Variable:     Q(\"average life expectancy\")   R-squared:                       0.640\n",
            "Model:                                      OLS   Adj. R-squared:                  0.625\n",
            "Method:                           Least Squares   F-statistic:                     41.75\n",
            "Date:                          Thu, 06 Jan 2022   Prob (F-statistic):           3.78e-11\n",
            "Time:                                  19:14:29   Log-Likelihood:                -155.70\n",
            "No. Observations:                            50   AIC:                             317.4\n",
            "Df Residuals:                                47   BIC:                             323.1\n",
            "Df Model:                                     2                                         \n",
            "Covariance Type:                      nonrobust                                         \n",
            "=========================================================================================\n",
            "                            coef    std err          t      P>|t|      [0.025      0.975]\n",
            "-----------------------------------------------------------------------------------------\n",
            "Intercept                47.7553      9.357      5.104      0.000      28.932      66.578\n",
            "Q(\"average BMI\")          0.7289      0.376      1.937      0.059      -0.028       1.486\n",
            "Q(\"GDP per capita/$\")     0.0003   3.46e-05      7.473      0.000       0.000       0.000\n",
            "==============================================================================\n",
            "Omnibus:                        3.823   Durbin-Watson:                   1.942\n",
            "Prob(Omnibus):                  0.148   Jarque-Bera (JB):                2.982\n",
            "Skew:                          -0.587   Prob(JB):                        0.225\n",
            "Kurtosis:                       3.235   Cond. No.                     4.46e+05\n",
            "==============================================================================\n",
            "\n",
            "Warnings:\n",
            "[1] Standard Errors assume that the covariance matrix of the errors is correctly specified.\n",
            "[2] The condition number is large, 4.46e+05. This might indicate that there are\n",
            "strong multicollinearity or other numerical problems.\n"
          ]
        }
      ]
    },
    {
      "cell_type": "code",
      "source": [
        "model_flife_fBMI_GDP = smf.ols(formula='Q(\"average female life expectancy\") ~ Q(\"average female BMI\") + Q(\"GDP per capita/$\")', data=df).fit()\n",
        "print(model_flife_fBMI_GDP.summary())"
      ],
      "metadata": {
        "colab": {
          "base_uri": "https://localhost:8080/"
        },
        "id": "jliCtKc5z9en",
        "outputId": "f6d0bf06-720e-4fdb-f6fd-712776ad7d8f"
      },
      "execution_count": 33,
      "outputs": [
        {
          "output_type": "stream",
          "name": "stdout",
          "text": [
            "                                     OLS Regression Results                                    \n",
            "===============================================================================================\n",
            "Dep. Variable:     Q(\"average female life expectancy\")   R-squared:                       0.587\n",
            "Model:                                             OLS   Adj. R-squared:                  0.570\n",
            "Method:                                  Least Squares   F-statistic:                     33.46\n",
            "Date:                                 Thu, 06 Jan 2022   Prob (F-statistic):           9.22e-10\n",
            "Time:                                         19:15:41   Log-Likelihood:                -160.67\n",
            "No. Observations:                                   50   AIC:                             327.3\n",
            "Df Residuals:                                       47   BIC:                             333.1\n",
            "Df Model:                                            2                                         \n",
            "Covariance Type:                             nonrobust                                         \n",
            "===========================================================================================\n",
            "                              coef    std err          t      P>|t|      [0.025      0.975]\n",
            "-------------------------------------------------------------------------------------------\n",
            "Intercept                  59.2843      9.276      6.391      0.000      40.624      77.945\n",
            "Q(\"average female BMI\")     0.3366      0.362      0.931      0.357      -0.391       1.064\n",
            "Q(\"GDP per capita/$\")       0.0003   3.57e-05      7.836      0.000       0.000       0.000\n",
            "==============================================================================\n",
            "Omnibus:                        2.644   Durbin-Watson:                   2.157\n",
            "Prob(Omnibus):                  0.267   Jarque-Bera (JB):                2.483\n",
            "Skew:                          -0.525   Prob(JB):                        0.289\n",
            "Kurtosis:                       2.704   Cond. No.                     4.00e+05\n",
            "==============================================================================\n",
            "\n",
            "Warnings:\n",
            "[1] Standard Errors assume that the covariance matrix of the errors is correctly specified.\n",
            "[2] The condition number is large,  4e+05. This might indicate that there are\n",
            "strong multicollinearity or other numerical problems.\n"
          ]
        }
      ]
    },
    {
      "cell_type": "code",
      "source": [
        "model_mlife_mBMI_GDP = smf.ols(formula='Q(\"average male life expectancy\") ~ Q(\"average male BMI\") + Q(\"GDP per capita/$\")', data=df).fit()\n",
        "print(model_mlife_mBMI_GDP.summary())"
      ],
      "metadata": {
        "colab": {
          "base_uri": "https://localhost:8080/"
        },
        "id": "K7DlO0AO0PTs",
        "outputId": "990a52bd-04d3-4351-cd04-5b2d0e91aab5"
      },
      "execution_count": 34,
      "outputs": [
        {
          "output_type": "stream",
          "name": "stdout",
          "text": [
            "                                    OLS Regression Results                                   \n",
            "=============================================================================================\n",
            "Dep. Variable:     Q(\"average male life expectancy\")   R-squared:                       0.696\n",
            "Model:                                           OLS   Adj. R-squared:                  0.683\n",
            "Method:                                Least Squares   F-statistic:                     53.76\n",
            "Date:                               Thu, 06 Jan 2022   Prob (F-statistic):           7.12e-13\n",
            "Time:                                       19:16:23   Log-Likelihood:                -150.40\n",
            "No. Observations:                                 50   AIC:                             306.8\n",
            "Df Residuals:                                     47   BIC:                             312.5\n",
            "Df Model:                                          2                                         \n",
            "Covariance Type:                           nonrobust                                         \n",
            "=========================================================================================\n",
            "                            coef    std err          t      P>|t|      [0.025      0.975]\n",
            "-----------------------------------------------------------------------------------------\n",
            "Intercept                35.7302      8.891      4.019      0.000      17.844      53.616\n",
            "Q(\"average male BMI\")     1.1659      0.369      3.161      0.003       0.424       1.908\n",
            "Q(\"GDP per capita/$\")     0.0002   3.49e-05      6.299      0.000       0.000       0.000\n",
            "==============================================================================\n",
            "Omnibus:                        4.212   Durbin-Watson:                   1.752\n",
            "Prob(Omnibus):                  0.122   Jarque-Bera (JB):                3.178\n",
            "Skew:                          -0.580   Prob(JB):                        0.204\n",
            "Kurtosis:                       3.425   Cond. No.                     4.71e+05\n",
            "==============================================================================\n",
            "\n",
            "Warnings:\n",
            "[1] Standard Errors assume that the covariance matrix of the errors is correctly specified.\n",
            "[2] The condition number is large, 4.71e+05. This might indicate that there are\n",
            "strong multicollinearity or other numerical problems.\n"
          ]
        }
      ]
    },
    {
      "cell_type": "code",
      "source": [
        ""
      ],
      "metadata": {
        "id": "UYV0-uI-0hxg"
      },
      "execution_count": null,
      "outputs": []
    }
  ]
}